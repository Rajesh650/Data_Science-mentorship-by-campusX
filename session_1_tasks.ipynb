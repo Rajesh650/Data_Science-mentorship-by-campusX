{
  "nbformat": 4,
  "nbformat_minor": 0,
  "metadata": {
    "colab": {
      "provenance": [],
      "include_colab_link": true
    },
    "kernelspec": {
      "name": "python3",
      "display_name": "Python 3"
    },
    "language_info": {
      "name": "python"
    }
  },
  "cells": [
    {
      "cell_type": "markdown",
      "metadata": {
        "id": "view-in-github",
        "colab_type": "text"
      },
      "source": [
        "<a href=\"https://colab.research.google.com/github/Rajesh650/Data_Science-mentorship-by-campusX/blob/main/session_1_tasks.ipynb\" target=\"_parent\"><img src=\"https://colab.research.google.com/assets/colab-badge.svg\" alt=\"Open In Colab\"/></a>"
      ]
    },
    {
      "cell_type": "markdown",
      "source": [
        "# Task : Session 1\n",
        "Solve these questions own your own and try to test yourself what you have learned in the session.\n",
        "\n",
        "Happy Learning!"
      ],
      "metadata": {
        "id": "A05OG15VqOPF"
      }
    },
    {
      "cell_type": "markdown",
      "source": [
        "### Q1 :- Print the given strings as per stated format.\n",
        "\n",
        "**Given strings**:\n",
        "```\n",
        "\"Data\" \"Science\" \"Mentorship\" \"Program\"\n",
        "\"By\" \"CampusX\"\n",
        "```\n",
        "**Output**:\n",
        "```\n",
        "Data-Science-Mentorship-Program-started-By-CampusX\n",
        "```\n",
        "\n",
        "Concept- [Seperator and End]"
      ],
      "metadata": {
        "id": "2doIXf8bqe9_"
      }
    },
    {
      "cell_type": "code",
      "source": [
        "# Write your code here\n",
        "print(\"Data\", \"Science\" ,\"Mentorship\", \"Program\"\n",
        "\"By\", \"CampusX\",sep='-')"
      ],
      "metadata": {
        "id": "-em6d3KErDtp",
        "outputId": "1d83e1ca-f2ab-4a3c-83e3-6bc7dc86f461",
        "colab": {
          "base_uri": "https://localhost:8080/"
        }
      },
      "execution_count": 3,
      "outputs": [
        {
          "output_type": "stream",
          "name": "stdout",
          "text": [
            "Data-Science-Mentorship-ProgramBy-CampusX\n"
          ]
        }
      ]
    },
    {
      "cell_type": "markdown",
      "source": [
        "### Q2:- Write a program that will convert celsius value to fahrenheit."
      ],
      "metadata": {
        "id": "1KUpN7ZTrC3_"
      }
    },
    {
      "cell_type": "code",
      "source": [
        "# Write your code here\n",
        "C = float(input(\"enter the celcius:-\"))\n",
        "F = (9/5*C) + 32\n",
        "print(\"Fahrenheit :-\",F )"
      ],
      "metadata": {
        "id": "yxKYhYQiqWfj",
        "outputId": "bb2eb38d-e864-448f-f5fb-93a3835439db",
        "colab": {
          "base_uri": "https://localhost:8080/"
        }
      },
      "execution_count": 5,
      "outputs": [
        {
          "output_type": "stream",
          "name": "stdout",
          "text": [
            "enter the celcius:-100\n",
            "Fahrenheit :- 212.0\n"
          ]
        }
      ]
    },
    {
      "cell_type": "markdown",
      "source": [
        "### Q3:- Take 2 numbers as input from the user.Write a program to swap the numbers without using any special python syntax."
      ],
      "metadata": {
        "id": "RLrOBBJurLB2"
      }
    },
    {
      "cell_type": "code",
      "source": [
        "# Write your code here\n",
        "num1 = int(input(\"number 1 :-\"))\n",
        "num2 = int(input(\"number 2 :-\"))\n",
        "temp = num1\n",
        "num1 = num2\n",
        "num2 = temp\n",
        "print(\"after swap num1:-\",num1 ,\"after swap num2:-\",num2)\n"
      ],
      "metadata": {
        "id": "yPn7if0TrJ4F",
        "outputId": "f80a5e2c-faf6-4cd1-f65d-22cb35112a97",
        "colab": {
          "base_uri": "https://localhost:8080/"
        }
      },
      "execution_count": 8,
      "outputs": [
        {
          "output_type": "stream",
          "name": "stdout",
          "text": [
            "number 1 :-23\n",
            "number 2 :-24\n",
            "after swap num1:- 24 after swap num2:- 23\n"
          ]
        }
      ]
    },
    {
      "cell_type": "markdown",
      "source": [
        "### Q4:- Write a program to find the euclidean distance between two coordinates.Take both the coordinates from the user as input."
      ],
      "metadata": {
        "id": "waLCP1bjr7ML"
      }
    },
    {
      "cell_type": "code",
      "source": [
        "# Write your code here\n",
        "\n",
        "x1 = int(input(\"enter the length of x1 :-\"))\n",
        "x2 = int(input(\"enter the length of x2 :-\"))\n",
        "y1 = int(input(\"enter the length of y1 :-\"))\n",
        "y2 = int(input(\"enter the length of y2 :-\"))\n",
        "euclid_distance = float(((x2-x1)**2)+((y2-y1)**2)*0.5)\n",
        "print(euclid_distance)\n"
      ],
      "metadata": {
        "id": "Pl1Sv-xnrxnH",
        "outputId": "bc69eb06-7a0f-4eea-d2b1-0ff72330fbb1",
        "colab": {
          "base_uri": "https://localhost:8080/"
        }
      },
      "execution_count": 11,
      "outputs": [
        {
          "output_type": "stream",
          "name": "stdout",
          "text": [
            "1.4142135623730951\n"
          ]
        }
      ]
    },
    {
      "cell_type": "markdown",
      "source": [
        "### Q5:- Write a program to find the simple interest when the value of principle,rate of interest and time period is provided by the user.\n"
      ],
      "metadata": {
        "id": "VLrhg-FRsHjR"
      }
    },
    {
      "cell_type": "code",
      "source": [
        "# Write your code here\n",
        "principal = int(input(\"enter the amount:-\"))\n",
        "rate = float(input(\"enter the rate:-\"))\n",
        "time = float(input(\"enter the time in year:-3\"))\n",
        "simple_interest =((principal*rate*time)/100)\n",
        "print(simple_interest)"
      ],
      "metadata": {
        "id": "s40DlReZsTmY",
        "outputId": "99eb3344-59c4-4fd3-f0db-ffd423a0c5e9",
        "colab": {
          "base_uri": "https://localhost:8080/"
        }
      },
      "execution_count": 13,
      "outputs": [
        {
          "output_type": "stream",
          "name": "stdout",
          "text": [
            "enter the amount:-100\n",
            "enter the rate:-5\n",
            "enter the time in year:-1\n",
            "5.0\n"
          ]
        }
      ]
    },
    {
      "cell_type": "markdown",
      "source": [
        "### Q6:- Write a program that will tell the number of dogs and chicken are there when the user will provide the value of total heads and legs.\n",
        "\n",
        "For example:\n",
        "Input:\n",
        "heads -> 4\n",
        "legs -> 12\n",
        "<br>\n",
        "Output:\n",
        "dogs -> 2\n",
        "chicken -> 2\n",
        "\n",
        "\n",
        "\n"
      ],
      "metadata": {
        "id": "LMy0BTUktYKa"
      }
    },
    {
      "cell_type": "code",
      "source": [
        "# Write your code here\n",
        "# Get the total number of heads and legs from the user\n",
        "total_heads = int(input(\"Enter the total number of heads: \"))\n",
        "total_legs = int(input(\"Enter the total number of legs: \"))\n",
        "\n",
        "# Calculating the number of chickens and dogs\n",
        "# Let's assume:\n",
        "# x = number of chickens\n",
        "# y = number of dogs\n",
        "# We have the following system of equations:\n",
        "# 1. x + y = total_heads (each animal has one head)\n",
        "# 2. 2x + 4y = total_legs (chickens have 2 legs, dogs have 4 legs)\n",
        "\n",
        "# From equation 1, we get: y = total_heads - x\n",
        "# Substitute y in equation 2: 2x + 4(total_heads - x) = total_legs\n",
        "# Solve for x: 2x + 4total_heads - 4x = total_legs\n",
        "# Simplify: -2x + 4total_heads = total_legs\n",
        "# x = (4total_heads - total_legs) / 2\n",
        "\n",
        "chickens = (4 * total_heads - total_legs) / 2\n",
        "dogs = total_heads - chickens\n",
        "\n",
        "# Check if the number of chickens and dogs are valid (non-negative integers)\n",
        "if chickens.is_integer() and dogs.is_integer() and chickens >= 0 and dogs >= 0:\n",
        "    print(f\"Number of chickens: {int(chickens)}\")\n",
        "    print(f\"Number of dogs: {int(dogs)}\")\n",
        "else:\n",
        "    print(\"The input values do not correspond to a valid number of chickens and dogs.\")\n"
      ],
      "metadata": {
        "id": "XSBvJoA4tXaG",
        "outputId": "2b5e83b5-7c34-4c24-d45d-ac0a7b659041",
        "colab": {
          "base_uri": "https://localhost:8080/"
        }
      },
      "execution_count": 23,
      "outputs": [
        {
          "output_type": "stream",
          "name": "stdout",
          "text": [
            "Enter the total number of heads: 4\n",
            "Enter the total number of legs: 12\n",
            "Number of chickens: 2\n",
            "Number of dogs: 2\n"
          ]
        }
      ]
    },
    {
      "cell_type": "markdown",
      "source": [
        "### Q7:- Write a program to find the sum of squares of first n natural numbers where n will be provided by the user."
      ],
      "metadata": {
        "id": "gJ7C5kZYt4BP"
      }
    },
    {
      "cell_type": "code",
      "source": [
        "# Write your code here\n",
        "# [n(n+1)(2n+1)]/6 == formula for sum of n natural number\n",
        "\n",
        "n = int(input(\"enter the number:-\"))\n",
        "\n",
        "res = ((n*(n+1)*(2*n+1))/6)\n",
        "print(res)"
      ],
      "metadata": {
        "id": "_tHsmEHzt2nX",
        "outputId": "204e56a9-7374-4e74-848a-1a4a5e4278b4",
        "colab": {
          "base_uri": "https://localhost:8080/"
        }
      },
      "execution_count": 20,
      "outputs": [
        {
          "output_type": "stream",
          "name": "stdout",
          "text": [
            "enter the number:-5\n",
            "55.0\n"
          ]
        }
      ]
    },
    {
      "cell_type": "markdown",
      "source": [
        "### Q8:- Given the first 2 terms of an Arithmetic Series.Find the Nth term of the series. Assume all inputs are provided by the user."
      ],
      "metadata": {
        "id": "FHrMM7g-yG1h"
      }
    },
    {
      "cell_type": "code",
      "source": [
        "# Write your code here\n",
        "\n",
        "first_term =int(input(\"enter the first term:-\"))\n",
        "second_term =int(input(\"enter the second term:-\"))\n",
        "common_difference =second_term - first_term\n",
        "nth_number = int(input(\"enter the nth number:-\"))\n",
        "nth_term = first_term +(nth_number-1)*common_difference\n",
        "print(\"nth term is:-\",nth_term)\n"
      ],
      "metadata": {
        "id": "go4_kmZmyVSx",
        "outputId": "11b73deb-5a2f-409a-fb63-6744581a9075",
        "colab": {
          "base_uri": "https://localhost:8080/"
        }
      },
      "execution_count": 26,
      "outputs": [
        {
          "output_type": "stream",
          "name": "stdout",
          "text": [
            "enter the first term:-2\n",
            "enter the second term:-5\n",
            "enter the nth number:-4\n",
            "nth term is:- 11\n"
          ]
        }
      ]
    },
    {
      "cell_type": "markdown",
      "source": [
        "### Q9:- Given 2 fractions, find the sum of those 2 fractions.Take the numerator and denominator values of the fractions from the user."
      ],
      "metadata": {
        "id": "QgyRX_es1oum"
      }
    },
    {
      "cell_type": "code",
      "source": [
        "# Write your code here\n",
        "a1 = int(input(\"enter the number a1:-\"))\n",
        "a2 = int(input(\"enter the number a2:-\"))\n",
        "b1 = int(input(\"enter the number b1:-\"))\n",
        "b2 = int(input(\"enter the number b2:-\"))\n",
        "frac_1 =a1/a2\n",
        "frac_2 =b1/b2\n",
        "sum = float(frac_1+frac_2)\n",
        "print(sum)"
      ],
      "metadata": {
        "id": "X05xqFS1yW16",
        "outputId": "aceb5611-4709-4fe9-fdf1-5f8edf891280",
        "colab": {
          "base_uri": "https://localhost:8080/"
        }
      },
      "execution_count": 28,
      "outputs": [
        {
          "output_type": "stream",
          "name": "stdout",
          "text": [
            "enter the number a1:-5\n",
            "enter the number a2:-5\n",
            "enter the number b1:-4\n",
            "enter the number b2:-4\n",
            "2.0\n"
          ]
        }
      ]
    },
    {
      "cell_type": "markdown",
      "source": [
        "### Q10:- Given the height, width and breadth of a milk tank, you have to find out how many glasses of milk can be obtained? Assume all the inputs are provided by the user.\n",
        "\n",
        "\n",
        "\n",
        "Input:<br>\n",
        "Dimensions of the milk tank<br>\n",
        "H = 20cm, L = 20cm, B = 20cm\n",
        "<br><br>\n",
        "Dimensions of the glass<br>\n",
        "h = 3cm, r = 1cm"
      ],
      "metadata": {
        "id": "eaql38ln13u7"
      }
    },
    {
      "cell_type": "code",
      "source": [
        "# Write your code here\n",
        "height_tank =int(input(\"enter the the height of tank:-\"))\n",
        "width_tank =int(input(\"enter the the width of tank:-\"))\n",
        "breadth_tank =int(input(\"enter the the breadth of tank:-\"))\n",
        "\n",
        "area_of_tank = height_tank*width_tank*breadth_tank\n",
        "\n",
        "height_glass = int(input(\"enter the height of glass:-\"))\n",
        "radius_of_glass = int(input(\"enter the radius of glass:-\"))\n",
        "area_of_glass = 3.17*(radius_of_glass**2)*height_glass\n",
        "\n",
        "total_glass = int(area_of_tank/area_of_glass)\n",
        "print(total_glass)\n"
      ],
      "metadata": {
        "id": "FePZqno74eWv",
        "outputId": "2520ee64-6dec-4e08-8ec7-e1350812554e",
        "colab": {
          "base_uri": "https://localhost:8080/"
        }
      },
      "execution_count": 35,
      "outputs": [
        {
          "output_type": "stream",
          "name": "stdout",
          "text": [
            "enter the the height of tank:-20\n",
            "enter the the width of tank:-20\n",
            "enter the the breadth of tank:-20\n",
            "enter the height of glass:-3\n",
            "enter the radius of glass:-1\n",
            "841\n"
          ]
        }
      ]
    }
  ]
}